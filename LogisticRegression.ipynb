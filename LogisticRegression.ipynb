{
  "nbformat": 4,
  "nbformat_minor": 0,
  "metadata": {
    "colab": {
      "provenance": [],
      "mount_file_id": "1QyomrNiKI8uLM2x7CzFwUCZXwnKrLsEv",
      "authorship_tag": "ABX9TyODp76l4g9j2VknaxK1Rhhq",
      "include_colab_link": true
    },
    "kernelspec": {
      "name": "python3",
      "display_name": "Python 3"
    },
    "language_info": {
      "name": "python"
    }
  },
  "cells": [
    {
      "cell_type": "markdown",
      "metadata": {
        "id": "view-in-github",
        "colab_type": "text"
      },
      "source": [
        "<a href=\"https://colab.research.google.com/github/MansiiKhandekar/MansiiKhandekar/blob/main/LogisticRegression.ipynb\" target=\"_parent\"><img src=\"https://colab.research.google.com/assets/colab-badge.svg\" alt=\"Open In Colab\"/></a>"
      ]
    },
    {
      "cell_type": "markdown",
      "source": [
        "Implementation of Logistic Regression on a simple heart.csv dataset. Comparing the scores with/without scaling."
      ],
      "metadata": {
        "id": "r2tgxq6dEEMi"
      }
    },
    {
      "cell_type": "code",
      "execution_count": 1,
      "metadata": {
        "colab": {
          "base_uri": "https://localhost:8080/"
        },
        "id": "v0sB-smYAF0D",
        "outputId": "72dea6a9-bcf7-4fc9-8a9c-f844906eb4cd"
      },
      "outputs": [
        {
          "output_type": "stream",
          "name": "stdout",
          "text": [
            "Mounted at /content/drive\n"
          ]
        }
      ],
      "source": [
        "from google.colab import drive\n",
        "drive.mount('/content/drive')"
      ]
    },
    {
      "cell_type": "code",
      "source": [
        "import pandas as pd\n",
        "df=pd.read_csv('/heart.csv')"
      ],
      "metadata": {
        "id": "i5A3kto4IeJw"
      },
      "execution_count": 8,
      "outputs": []
    },
    {
      "cell_type": "code",
      "source": [
        "from sklearn.model_selection import train_test_split\n",
        "from sklearn.linear_model import LogisticRegression\n",
        "from sklearn.metrics import accuracy_score, confusion_matrix, classification_report"
      ],
      "metadata": {
        "id": "aOmBzwu1IzTI"
      },
      "execution_count": 9,
      "outputs": []
    },
    {
      "cell_type": "code",
      "source": [
        "print(df.head())"
      ],
      "metadata": {
        "colab": {
          "base_uri": "https://localhost:8080/"
        },
        "id": "WHj0oYR-LVrD",
        "outputId": "3028dbde-c02b-4e07-f8c9-bd34c62adce2"
      },
      "execution_count": 10,
      "outputs": [
        {
          "output_type": "stream",
          "name": "stdout",
          "text": [
            "   age  sex  cp  trestbps  chol  fbs  restecg  thalach  exang  oldpeak  slope  \\\n",
            "0   52    1   0       125   212    0        1      168      0      1.0      2   \n",
            "1   53    1   0       140   203    1        0      155      1      3.1      0   \n",
            "2   70    1   0       145   174    0        1      125      1      2.6      0   \n",
            "3   61    1   0       148   203    0        1      161      0      0.0      2   \n",
            "4   62    0   0       138   294    1        1      106      0      1.9      1   \n",
            "\n",
            "   ca  thal  target  \n",
            "0   2     3       0  \n",
            "1   0     3       0  \n",
            "2   0     3       0  \n",
            "3   1     3       0  \n",
            "4   3     2       0  \n"
          ]
        }
      ]
    },
    {
      "cell_type": "markdown",
      "source": [],
      "metadata": {
        "id": "XpfyON-TLmeO"
      }
    },
    {
      "cell_type": "code",
      "source": [
        "X=df.drop(\"target\",axis=1)\n",
        "y=df[\"target\"]\n"
      ],
      "metadata": {
        "id": "b8nh50sZLm0y"
      },
      "execution_count": 16,
      "outputs": []
    },
    {
      "cell_type": "code",
      "source": [
        "\n",
        "X_train,X_test,y_train,y_test=train_test_split(X,y,test_size=0.2,random_state=42)\n",
        "lr=LogisticRegression(max_iter=1000)\n",
        "lr.fit(X_train,y_train)\n",
        "y_pred=lr.predict(X_test)\n",
        "\n",
        "print(\"Accuracy score for :\", accuracy_score(y_test,y_pred))\n",
        "print(\"Confusion Matrix :\",confusion_matrix(y_test,y_pred))\n",
        "print(\"Classification Report:\",classification_report(y_test,y_pred))"
      ],
      "metadata": {
        "id": "bIUogPaiLyxM",
        "colab": {
          "base_uri": "https://localhost:8080/"
        },
        "outputId": "518c8881-bc33-4d20-c37f-c452282fedca"
      },
      "execution_count": 20,
      "outputs": [
        {
          "output_type": "stream",
          "name": "stdout",
          "text": [
            "Accuracy score for : 0.7951219512195122\n",
            "Confusion Matrix : [[73 29]\n",
            " [13 90]]\n",
            "Classification Report:               precision    recall  f1-score   support\n",
            "\n",
            "           0       0.85      0.72      0.78       102\n",
            "           1       0.76      0.87      0.81       103\n",
            "\n",
            "    accuracy                           0.80       205\n",
            "   macro avg       0.80      0.79      0.79       205\n",
            "weighted avg       0.80      0.80      0.79       205\n",
            "\n"
          ]
        }
      ]
    },
    {
      "cell_type": "code",
      "source": [
        "from sklearn.preprocessing import StandardScaler\n",
        "ss=StandardScaler()\n",
        "X_scaled=ss.fit_transform(X)\n",
        "X_train_scaled,X_test_scaled,y_train_scaled,y_test_scaled=train_test_split(X_scaled,y,test_size=0.2,random_state=42)\n"
      ],
      "metadata": {
        "id": "7XDTIaH8NEda"
      },
      "execution_count": 24,
      "outputs": []
    },
    {
      "cell_type": "code",
      "source": [
        "lr.fit(X_train_scaled,y_train_scaled)\n",
        "y_pred_scaled=lr.predict(X_test_scaled)\n",
        "print(\"Accuracy score: \", accuracy_score(y_test_scaled,y_pred_scaled))\n",
        "print(\"Classification report: \", classification_report(y_test_scaled,y_pred_scaled))\n",
        "print(\"Confusion Matrix: \", confusion_matrix(y_test_scaled,y_pred_scaled))"
      ],
      "metadata": {
        "colab": {
          "base_uri": "https://localhost:8080/"
        },
        "id": "Oqmp-N7jNz4g",
        "outputId": "e821a67b-0c12-4bfd-bb43-ed11e443d777"
      },
      "execution_count": 26,
      "outputs": [
        {
          "output_type": "stream",
          "name": "stdout",
          "text": [
            "Accuracy score:  0.7951219512195122\n",
            "Classification report:                precision    recall  f1-score   support\n",
            "\n",
            "           0       0.85      0.72      0.78       102\n",
            "           1       0.76      0.87      0.81       103\n",
            "\n",
            "    accuracy                           0.80       205\n",
            "   macro avg       0.80      0.79      0.79       205\n",
            "weighted avg       0.80      0.80      0.79       205\n",
            "\n",
            "Confusion Matrix:  [[73 29]\n",
            " [13 90]]\n"
          ]
        }
      ]
    },
    {
      "cell_type": "code",
      "source": [
        "print(X_train[0]==X_train_scaled[0]) #scaling making no difference in the values\n"
      ],
      "metadata": {
        "colab": {
          "base_uri": "https://localhost:8080/"
        },
        "id": "hcPN1Fbb7fik",
        "outputId": "daffb7f8-61c9-4c17-c485-bb47b5f1537d"
      },
      "execution_count": 29,
      "outputs": [
        {
          "output_type": "stream",
          "name": "stdout",
          "text": [
            "[ True  True  True  True  True  True  True  True  True  True  True  True\n",
            "  True]\n"
          ]
        }
      ]
    },
    {
      "cell_type": "markdown",
      "source": [
        "No difference in the result with/without scaling hence the data points must not be too far away from each other."
      ],
      "metadata": {
        "id": "zbjk21yL7X2v"
      }
    },
    {
      "cell_type": "code",
      "source": [],
      "metadata": {
        "id": "VQkISy8q7yqc"
      },
      "execution_count": null,
      "outputs": []
    }
  ]
}